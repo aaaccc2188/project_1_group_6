{
 "cells": [
  {
   "cell_type": "markdown",
   "metadata": {},
   "source": [
    "## Environmental, Social and Governance factors comparison of USA vs various countries; Cumulative returns analysis of ESG funds"
   ]
  },
  {
   "cell_type": "markdown",
   "metadata": {},
   "source": [
    "### Import the Libraries"
   ]
  },
  {
   "cell_type": "code",
   "execution_count": 1,
   "metadata": {},
   "outputs": [
    {
     "ename": "ModuleNotFoundError",
     "evalue": "No module named 'panel'",
     "output_type": "error",
     "traceback": [
      "\u001b[1;31m---------------------------------------------------------------------------\u001b[0m",
      "\u001b[1;31mModuleNotFoundError\u001b[0m                       Traceback (most recent call last)",
      "\u001b[1;32m<ipython-input-1-78efe9449f39>\u001b[0m in \u001b[0;36m<module>\u001b[1;34m\u001b[0m\n\u001b[0;32m      7\u001b[0m \u001b[0mget_ipython\u001b[0m\u001b[1;33m(\u001b[0m\u001b[1;33m)\u001b[0m\u001b[1;33m.\u001b[0m\u001b[0mrun_line_magic\u001b[0m\u001b[1;33m(\u001b[0m\u001b[1;34m'matplotlib'\u001b[0m\u001b[1;33m,\u001b[0m \u001b[1;34m'inline'\u001b[0m\u001b[1;33m)\u001b[0m\u001b[1;33m\u001b[0m\u001b[1;33m\u001b[0m\u001b[0m\n\u001b[0;32m      8\u001b[0m \u001b[1;32mimport\u001b[0m \u001b[0mnumpy\u001b[0m \u001b[1;32mas\u001b[0m \u001b[0mnp\u001b[0m\u001b[1;33m\u001b[0m\u001b[1;33m\u001b[0m\u001b[0m\n\u001b[1;32m----> 9\u001b[1;33m \u001b[1;32mimport\u001b[0m \u001b[0mpanel\u001b[0m \u001b[1;32mas\u001b[0m \u001b[0mpn\u001b[0m\u001b[1;33m\u001b[0m\u001b[1;33m\u001b[0m\u001b[0m\n\u001b[0m\u001b[0;32m     10\u001b[0m \u001b[1;32mimport\u001b[0m \u001b[0mpandas\u001b[0m \u001b[1;32mas\u001b[0m \u001b[0mpd\u001b[0m\u001b[1;33m\u001b[0m\u001b[1;33m\u001b[0m\u001b[0m\n\u001b[0;32m     11\u001b[0m \u001b[1;32mimport\u001b[0m \u001b[0mhvplot\u001b[0m\u001b[1;33m.\u001b[0m\u001b[0mpandas\u001b[0m\u001b[1;33m\u001b[0m\u001b[1;33m\u001b[0m\u001b[0m\n",
      "\u001b[1;31mModuleNotFoundError\u001b[0m: No module named 'panel'"
     ]
    }
   ],
   "source": [
    "# Import the libraries\n",
    "import os\n",
    "import csv\n",
    "import json\n",
    "import requests\n",
    "import calendar\n",
    "%matplotlib inline\n",
    "import numpy as np\n",
    "import panel as pn\n",
    "import pandas as pd\n",
    "import hvplot.pandas\n",
    "import tkinter as tk                     \n",
    "from tkinter import ttk \n",
    "from pathlib import Path\n",
    "import plotly.express as px\n",
    "import matplotlib.pyplot as plt"
   ]
  },
  {
   "cell_type": "markdown",
   "metadata": {},
   "source": [
    "### Importing the Metadata"
   ]
  },
  {
   "cell_type": "code",
   "execution_count": null,
   "metadata": {},
   "outputs": [],
   "source": [
    "# Import the CSV\n",
    "world_data_csv= Path(\"esg_data.csv\")\n",
    "\n",
    "world_df= pd.read_csv(world_data_csv, index_col= 'Country Name')\n",
    "\n",
    "world_df.head()"
   ]
  },
  {
   "cell_type": "markdown",
   "metadata": {},
   "source": [
    "### Selecting only the period from 2010- 2019"
   ]
  },
  {
   "cell_type": "code",
   "execution_count": null,
   "metadata": {},
   "outputs": [],
   "source": [
    "# Extract the columns from 2010- 2019\n",
    "world_latest_df= world_df[['Indicator Name','2010','2011','2012','2013','2014','2015','2016','2017','2018','2019']]\n",
    "\n",
    "world_latest_df.head()"
   ]
  },
  {
   "cell_type": "markdown",
   "metadata": {},
   "source": [
    "### Selecting 50 countries of interest"
   ]
  },
  {
   "cell_type": "code",
   "execution_count": null,
   "metadata": {},
   "outputs": [],
   "source": [
    "# Selecting only 50 countries from the dataframe\n",
    "fifty_countries_df= world_latest_df.loc[['Australia','Austria','Belgium','Canada','Chile','Colombia','Czech Republic','Denmark','Estonia',\n",
    "                                         'Finland','France','Germany','Greece','Hungary','Iceland','Ireland','Israel','Italy','Japan',\n",
    "                                         'South Korea','Latvia','Lithuania','Luxembourg','Mexico','Netherlands','New Zealand','Norway',\n",
    "                                         'Poland','Portugal','Slovak Republic','Slovenia','Spain','Sweden','Switzerland','Turkey',\n",
    "                                         'United Kingdom','United States','Brazil','Russian Federation','India','Pakistan','China',\n",
    "                                         'South Africa','Indonesia','Malaysia','Nigeria','Algeria','Vietnam','Argentina','Venezuela, RB']]\n",
    "\n",
    "fifty_countries_df.head()"
   ]
  },
  {
   "cell_type": "markdown",
   "metadata": {},
   "source": [
    "### Replacing the ESG Indicator name as the index "
   ]
  },
  {
   "cell_type": "code",
   "execution_count": null,
   "metadata": {},
   "outputs": [],
   "source": [
    "# Replacing the index to indicator(category) name\n",
    "fifty_countries_reset= fifty_countries_df.reset_index().set_index('Indicator Name')\n",
    "\n",
    "fifty_countries_reset.head()"
   ]
  },
  {
   "cell_type": "markdown",
   "metadata": {},
   "source": [
    "### Selecting 10 indicators of interest"
   ]
  },
  {
   "cell_type": "markdown",
   "metadata": {},
   "source": [
    "#### 1- Carbondioxide Emission (Metric tons per capita)"
   ]
  },
  {
   "cell_type": "code",
   "execution_count": null,
   "metadata": {},
   "outputs": [],
   "source": [
    "# CO2 Emissions\n",
    "carbondioxide_emission= fifty_countries_reset.loc['carbondioxide emissions']\n",
    "\n",
    "carbondioxide_emission.head()"
   ]
  },
  {
   "cell_type": "code",
   "execution_count": null,
   "metadata": {},
   "outputs": [],
   "source": [
    "# CO2 Emissions drop indicator name and reset index\n",
    "carbondioxide_emission1= carbondioxide_emission.set_index('Country Name').fillna(0)\n",
    "\n",
    "carbondioxide_emission1= round (carbondioxide_emission1.drop(columns= ['2017','2018','2019']), 1)\n",
    "\n",
    "carbondioxide_emission1.head()"
   ]
  },
  {
   "cell_type": "code",
   "execution_count": null,
   "metadata": {},
   "outputs": [],
   "source": [
    "# Create a dropdown plot, grouped by each country\n",
    "carbondioxide_dropdown= carbondioxide_emission1.hvplot.bar(x= 'index', groupby= 'Country Name', title= 'CO2 Emission (metric tons per capita)')\n",
    "                            \n",
    "carbondioxide_dropdown"
   ]
  },
  {
   "cell_type": "markdown",
   "metadata": {},
   "source": [
    "#### Interpretation of USA CO2 Emission"
   ]
  },
  {
   "cell_type": "markdown",
   "metadata": {},
   "source": [
    "As seen from the graph above, the CO2 emission of United States has marginally reduced over the period from 2010- 2016."
   ]
  },
  {
   "cell_type": "code",
   "execution_count": null,
   "metadata": {},
   "outputs": [],
   "source": [
    "# Fetch the year-by-year CO2 emisssion statistics for China and United States. Has it increased or decreased?\n",
    "co2_combined_plot= (carbondioxide_emission1.loc['China'].hvplot.line()* carbondioxide_emission1.loc['United States']\n",
    "                    .hvplot.line().opts(title= \"CO2 USA and China\"))\n",
    "                    \n",
    "co2_combined_plot"
   ]
  },
  {
   "cell_type": "markdown",
   "metadata": {},
   "source": [
    "#### Interpretation of USA vs China CO2 Emission"
   ]
  },
  {
   "cell_type": "markdown",
   "metadata": {},
   "source": [
    "As seen from the graph, the CO2 emission of United States was way above than China during the period from 2010- 2016."
   ]
  },
  {
   "cell_type": "code",
   "execution_count": null,
   "metadata": {},
   "outputs": [],
   "source": [
    "# Calculate the aggregate mean over all the years, by country\n",
    "carbondioxide_emission1_sum= carbondioxide_emission1.sum(axis= 1)\n",
    "\n",
    "carbondioxide_emission1_mean= round ((carbondioxide_emission1_sum/7), 1)\n",
    "\n",
    "# Countries with the highest CO2 emissions\n",
    "carbondioxide_emission1_mean.nlargest(5)"
   ]
  },
  {
   "cell_type": "code",
   "execution_count": null,
   "metadata": {},
   "outputs": [],
   "source": [
    "# Plot the average CO2 emission by each country\n",
    "co2_all_plot= carbondioxide_emission1_mean.hvplot.bar(title= 'Mean Carbondioxide emission (metric tons per capita) from 2010- 2016', rot= 60)\n",
    "\n",
    "co2_all_plot"
   ]
  },
  {
   "cell_type": "markdown",
   "metadata": {},
   "source": [
    "#### Interpretation of cumulative CO2 Emission of all countries"
   ]
  },
  {
   "cell_type": "markdown",
   "metadata": {},
   "source": [
    "The CO2 emission of United States has been higher than all the countries, except Luxembourg and Australia."
   ]
  },
  {
   "cell_type": "markdown",
   "metadata": {},
   "source": [
    "#### 2- Mean annual exposure to Particulate Matter (PM)- (Micrograms per Cubic meter)"
   ]
  },
  {
   "cell_type": "code",
   "execution_count": null,
   "metadata": {},
   "outputs": [],
   "source": [
    "# Mean annual exposure to Particulate Matter (PM)\n",
    "particulate_matter_exposure= fifty_countries_reset.loc['PM2.5 air pollution, mean annual exposure (micrograms per cubic meter)']\n",
    "\n",
    "particulate_matter_exposure.head()"
   ]
  },
  {
   "cell_type": "code",
   "execution_count": null,
   "metadata": {},
   "outputs": [],
   "source": [
    "# PM Exposure drop indicator name and reset index\n",
    "particulate_matter_exposure1= particulate_matter_exposure.set_index('Country Name').fillna(0)\n",
    "\n",
    "particulate_matter_exposure1= round (particulate_matter_exposure1.drop(columns= ['2018','2019']), 1)\n",
    "\n",
    "particulate_matter_exposure1.head()"
   ]
  },
  {
   "cell_type": "code",
   "execution_count": null,
   "metadata": {},
   "outputs": [],
   "source": [
    "# Create a dropdown plot, grouped by each country\n",
    "particulate_dropdown= particulate_matter_exposure1.hvplot.bar(x= 'index', groupby= 'Country Name', title= 'PM exposure (mg/cu. m.)')\n",
    "                            \n",
    "particulate_dropdown"
   ]
  },
  {
   "cell_type": "markdown",
   "metadata": {},
   "source": [
    "#### Interpretation of USA PM exposure"
   ]
  },
  {
   "cell_type": "markdown",
   "metadata": {},
   "source": [
    "As seen from the graph above, the PM exposure of US has only gradually reduced, but not made a significant improvement over 7 years."
   ]
  },
  {
   "cell_type": "code",
   "execution_count": null,
   "metadata": {},
   "outputs": [],
   "source": [
    "# Compare the PM Exposure for United States and Spain, over all the years\n",
    "particulate_combined_plot= (particulate_matter_exposure1.loc['United States'].hvplot.line()* particulate_matter_exposure1.loc['Spain']\n",
    "                            .hvplot.line()).opts(title= 'Particulate matter exposure for USA and Spain')\n",
    "\n",
    "particulate_combined_plot"
   ]
  },
  {
   "cell_type": "markdown",
   "metadata": {},
   "source": [
    "#### Interpretation of USA vs Spain PM exposure"
   ]
  },
  {
   "cell_type": "markdown",
   "metadata": {},
   "source": [
    "Compared with Spain, the PM exposure of US has been low, while both the countries improved on the PM exposure over 7 years"
   ]
  },
  {
   "cell_type": "code",
   "execution_count": null,
   "metadata": {},
   "outputs": [],
   "source": [
    "# Calculate the aggregate mean over all the years, by country\n",
    "particulate_matter_exposure1_sum= particulate_matter_exposure1.sum(axis= 1)\n",
    "\n",
    "particulate_matter_exposure1_mean= round ((particulate_matter_exposure1_sum/8), 1)\n",
    "\n",
    "particulate_matter_exposure1_mean.nlargest(5)"
   ]
  },
  {
   "cell_type": "code",
   "execution_count": null,
   "metadata": {},
   "outputs": [],
   "source": [
    "# Plot the Particulate Matter Exposure\n",
    "particulate_all_plot= particulate_matter_exposure1_mean.hvplot.bar(title= 'PM Exposure (mg/ cu. m.)', rot= 60)\n",
    "\n",
    "particulate_all_plot"
   ]
  },
  {
   "cell_type": "markdown",
   "metadata": {},
   "source": [
    "#### Interpretation of overall PM exposure"
   ]
  },
  {
   "cell_type": "markdown",
   "metadata": {},
   "source": [
    "Compared with all the 50 countries, USA fares well on the exposure to PM."
   ]
  },
  {
   "cell_type": "markdown",
   "metadata": {},
   "source": [
    "#### 3- Forest area (percent of total land area)"
   ]
  },
  {
   "cell_type": "code",
   "execution_count": null,
   "metadata": {},
   "outputs": [],
   "source": [
    "# Forest Area\n",
    "forest_area= fifty_countries_reset.loc['Forest area (% of land area)']\n",
    "\n",
    "forest_area.head()"
   ]
  },
  {
   "cell_type": "code",
   "execution_count": null,
   "metadata": {},
   "outputs": [],
   "source": [
    "# Forest area drop indicator name and reset index\n",
    "forest_area1= forest_area.set_index('Country Name').fillna(0)\n",
    "\n",
    "forest_area1= round (forest_area1.drop(columns= ['2017','2018','2019']), 1)\n",
    "\n",
    "forest_area1.head()"
   ]
  },
  {
   "cell_type": "code",
   "execution_count": null,
   "metadata": {},
   "outputs": [],
   "source": [
    "ymin = min(forest_area1[\"2010\"])\n",
    "ymax = max(forest_area1[\"2010\"])\n",
    "ystd = forest_area1[\"2010\"].std()"
   ]
  },
  {
   "cell_type": "code",
   "execution_count": null,
   "metadata": {},
   "outputs": [],
   "source": [
    "# Create a dropdown plot, grouped by each country\n",
    "# forest_dropdown= forest_area1.hvplot.bar(x= 'index', ylim=(ymin-ystd, ymax+ystd), groupby= 'Country Name')\n",
    "forest_dropdown= forest_area1.hvplot.bar(x= 'index', groupby= 'Country Name', title= 'Forest Area (% of land)')\n",
    "                            \n",
    "forest_dropdown"
   ]
  },
  {
   "cell_type": "markdown",
   "metadata": {},
   "source": [
    "#### Interpretation of USA forest area"
   ]
  },
  {
   "cell_type": "markdown",
   "metadata": {},
   "source": [
    "As seen from the graph above, the forest area in USA has stayed relatively same over the years, while not experiencing major drop."
   ]
  },
  {
   "cell_type": "code",
   "execution_count": null,
   "metadata": {},
   "outputs": [],
   "source": [
    "# Compare the forest area statistics for USA, Brazil, Estonia\n",
    "forest_combined_plot= (forest_area1.loc['United States'].hvplot()* forest_area1.loc['Brazil'].hvplot()* \n",
    "                       forest_area1.loc['Estonia'].hvplot().opts(title= \"Forest area USA, Brazil, Estonia\", ylim= (30, 70)))\n",
    "                       \n",
    "forest_combined_plot"
   ]
  },
  {
   "cell_type": "markdown",
   "metadata": {},
   "source": [
    "#### Interpretation of USA vs Brazil and Estonia forest area"
   ]
  },
  {
   "cell_type": "markdown",
   "metadata": {},
   "source": [
    "Compared with Brazil and Estonia, the forest area is significantly lower in the US."
   ]
  },
  {
   "cell_type": "code",
   "execution_count": null,
   "metadata": {},
   "outputs": [],
   "source": [
    "round (forest_area1.pct_change().head(), 1)"
   ]
  },
  {
   "cell_type": "code",
   "execution_count": null,
   "metadata": {},
   "outputs": [],
   "source": [
    "# Calculate the aggregate mean over all the years, by country\n",
    "forest_area1_sum= forest_area1.sum(axis= 1)\n",
    "\n",
    "forest_area1_mean= round ((forest_area1_sum/7), 1)\n",
    "\n",
    "forest_area1_mean.head()"
   ]
  },
  {
   "cell_type": "code",
   "execution_count": null,
   "metadata": {},
   "outputs": [],
   "source": [
    "# Plot the Forest Area\n",
    "forest_all_plot= forest_area1_mean.hvplot.bar(title= 'Forest Area (% of total land)', rot= 60)\n",
    "\n",
    "forest_all_plot"
   ]
  },
  {
   "cell_type": "markdown",
   "metadata": {},
   "source": [
    "#### Interpretation of overall forest area"
   ]
  },
  {
   "cell_type": "markdown",
   "metadata": {},
   "source": [
    "USA's forest area is average in comparison with other countries."
   ]
  },
  {
   "cell_type": "markdown",
   "metadata": {},
   "source": [
    "#### 4- Renewable Energy Consumption (% of total energy)"
   ]
  },
  {
   "cell_type": "code",
   "execution_count": null,
   "metadata": {},
   "outputs": [],
   "source": [
    "# Renewable energy\n",
    "renewable_energy= fifty_countries_reset.loc['renewable energy consumption (% of total)']\n",
    "\n",
    "renewable_energy.head()"
   ]
  },
  {
   "cell_type": "code",
   "execution_count": null,
   "metadata": {},
   "outputs": [],
   "source": [
    "# Renewable energy drop indicator name and reset index\n",
    "renewable_energy1= renewable_energy.set_index('Country Name').fillna(0)\n",
    "\n",
    "renewable_energy1= round (renewable_energy1.drop(columns= ['2016','2017','2018','2019']), 1)\n",
    "\n",
    "renewable_energy1.head()"
   ]
  },
  {
   "cell_type": "code",
   "execution_count": null,
   "metadata": {},
   "outputs": [],
   "source": [
    "# Calculate the aggregate mean over all the years, by country\n",
    "renewable_energy1_sum= renewable_energy1.sum(axis= 1)\n",
    "\n",
    "renewable_energy1_mean= round ((renewable_energy1_sum/6), 1)\n",
    "\n",
    "renewable_energy1_mean.head()"
   ]
  },
  {
   "cell_type": "code",
   "execution_count": null,
   "metadata": {},
   "outputs": [],
   "source": [
    "# Create a dropdown plot, grouped by each country\n",
    "renewable_dropdown= renewable_energy1.hvplot.bar(x= 'index', groupby= 'Country Name', title= 'Renewable energy (% of total energy)')\n",
    "                            \n",
    "renewable_dropdown"
   ]
  },
  {
   "cell_type": "markdown",
   "metadata": {},
   "source": [
    "#### Interpretation of USA renewable energy consumption"
   ]
  },
  {
   "cell_type": "markdown",
   "metadata": {},
   "source": [
    "As seen from the graph above, the renewable energy consumption in USA has seen a marginal improvement during the period in consideration."
   ]
  },
  {
   "cell_type": "code",
   "execution_count": null,
   "metadata": {},
   "outputs": [],
   "source": [
    "# Compare the forest area statistics for USA, Netherlands, Venezuela\n",
    "renewable_combined_plot= (renewable_energy1.loc['United States'].hvplot()* renewable_energy1.loc['Netherlands'].hvplot()* \n",
    "                       renewable_energy1.loc['Venezuela, RB'].hvplot().opts(title= \"Renewable energy USA, Netherlands, Venezuela\", ylim= (3,16)))\n",
    "                       \n",
    "renewable_combined_plot"
   ]
  },
  {
   "cell_type": "markdown",
   "metadata": {},
   "source": [
    "#### Interpretation of USA vs Netherlands and Venezuela renewable energy consumption"
   ]
  },
  {
   "cell_type": "markdown",
   "metadata": {},
   "source": [
    "Compared to Venezuela, the renewable energy consumption in USA is low. While, USA performs better than technologically advanced Netherlands."
   ]
  },
  {
   "cell_type": "code",
   "execution_count": null,
   "metadata": {},
   "outputs": [],
   "source": [
    "# Plot the renewable energy consumption\n",
    "renewable_all_plot= renewable_energy1_mean.hvplot.bar(title= 'Renewable Energy Consumption (% of total energy)', rot= 60)\n",
    "\n",
    "renewable_all_plot"
   ]
  },
  {
   "cell_type": "markdown",
   "metadata": {},
   "source": [
    "#### Interpretation of overall renewable energy consumption"
   ]
  },
  {
   "cell_type": "markdown",
   "metadata": {},
   "source": [
    "In comparison with all the countries, USA has a miniscule renewable energy usage. The countries that are not technologically savvy like Venezuela, Nigeria, Vietnam have a much higher usage than the US."
   ]
  },
  {
   "cell_type": "markdown",
   "metadata": {},
   "source": [
    "#### 5- Life Expectancy"
   ]
  },
  {
   "cell_type": "code",
   "execution_count": null,
   "metadata": {},
   "outputs": [],
   "source": [
    "# Life Expectancy\n",
    "life_expectancy= fifty_countries_reset.loc['life expectancy']\n",
    "\n",
    "life_expectancy.head()"
   ]
  },
  {
   "cell_type": "code",
   "execution_count": null,
   "metadata": {},
   "outputs": [],
   "source": [
    "# Life expectancy drop indicator name and reset index\n",
    "life_expectancy1= life_expectancy.set_index('Country Name').fillna(0)\n",
    "\n",
    "life_expectancy1= round (life_expectancy1.drop(columns= ['2019']), 1)\n",
    "\n",
    "life_expectancy1.head()"
   ]
  },
  {
   "cell_type": "code",
   "execution_count": null,
   "metadata": {},
   "outputs": [],
   "source": [
    "# Create a dropdown plot, grouped by each country\n",
    "life_dropdown= life_expectancy1.hvplot.bar(x= 'index', groupby= 'Country Name', title= 'Life Expectancy')\n",
    "                            \n",
    "life_dropdown"
   ]
  },
  {
   "cell_type": "markdown",
   "metadata": {},
   "source": [
    "#### Interpretation of USA life expectancy"
   ]
  },
  {
   "cell_type": "markdown",
   "metadata": {},
   "source": [
    "As seen from the graph above, the life expectancy in USA has stayed steady at 78, over 9 years."
   ]
  },
  {
   "cell_type": "code",
   "execution_count": null,
   "metadata": {},
   "outputs": [],
   "source": [
    "# Compare the life expectancy statistics of USA vs Switzerland and Vietnam\n",
    "life_combined_plot= (life_expectancy1.loc['United States'].hvplot()* life_expectancy1.loc['Switzerland'].hvplot()* \n",
    "                     life_expectancy1.loc['Vietnam'].hvplot()).opts(title= 'Life Expectancy- USA, Switzerland, Vietnam')\n",
    "\n",
    "life_combined_plot"
   ]
  },
  {
   "cell_type": "markdown",
   "metadata": {},
   "source": [
    "#### Interpretation of USA vs Switzerland and Vietnam life expectancy"
   ]
  },
  {
   "cell_type": "markdown",
   "metadata": {},
   "source": [
    "Switzerland has had a higher life expectancy than USA and experienced improvements. Vietnam has a lower life expectancy than USA and had a slight improvement over 9 years."
   ]
  },
  {
   "cell_type": "code",
   "execution_count": null,
   "metadata": {},
   "outputs": [],
   "source": [
    "# Which countries had the lowest life expectancy in 2010\n",
    "life_expectancy1['2010'].sort_values().head()"
   ]
  },
  {
   "cell_type": "code",
   "execution_count": null,
   "metadata": {},
   "outputs": [],
   "source": [
    "# Calculate the aggregate mean over all the years, by country\n",
    "life_expectancy1_sum= life_expectancy1.sum(axis= 1)\n",
    "\n",
    "life_expectancy1_mean= round ((life_expectancy1_sum/9), 1)\n",
    "\n",
    "# Countries with the highest life expectancy\n",
    "life_expectancy1_mean.nlargest(5)"
   ]
  },
  {
   "cell_type": "code",
   "execution_count": null,
   "metadata": {},
   "outputs": [],
   "source": [
    "# Set the scale of the graph by determining the std deviation\n",
    "std_dev= life_expectancy1_mean.std()\n",
    "\n",
    "minimum= life_expectancy1_mean.min()- std_dev\n",
    "\n",
    "maximum= life_expectancy1_mean.max()+ std_dev"
   ]
  },
  {
   "cell_type": "code",
   "execution_count": null,
   "metadata": {},
   "outputs": [],
   "source": [
    "# Plot the Life Expenctancy\n",
    "life_all_plot= life_expectancy1_mean.hvplot.bar(title= 'Life Expectancy (years)', rot= 60, ylim= (minimum, maximum))\n",
    "\n",
    "life_all_plot"
   ]
  },
  {
   "cell_type": "markdown",
   "metadata": {},
   "source": [
    "#### Interpretation of overall life expectancy"
   ]
  },
  {
   "cell_type": "markdown",
   "metadata": {},
   "source": [
    "USA's life expectancy is higher compared to many 2nd and 3rd world countries while still behind many countries that have an expectancy over 80 years."
   ]
  },
  {
   "cell_type": "markdown",
   "metadata": {},
   "source": [
    "#### 6- Prevalance of overweight adults (% of population)"
   ]
  },
  {
   "cell_type": "code",
   "execution_count": null,
   "metadata": {},
   "outputs": [],
   "source": [
    "# Overweight adults\n",
    "overweight_adults= fifty_countries_reset.loc['Prevalence of overweight (% of adults)']\n",
    "\n",
    "overweight_adults.head()"
   ]
  },
  {
   "cell_type": "code",
   "execution_count": null,
   "metadata": {},
   "outputs": [],
   "source": [
    "# Overweight adults drop indicator name and reset index\n",
    "overweight_adults1= overweight_adults.set_index('Country Name').fillna(0)\n",
    "\n",
    "overweight_adults1= round (overweight_adults1.drop(columns= ['2017','2018','2019']), 1)\n",
    "\n",
    "overweight_adults1.head()"
   ]
  },
  {
   "cell_type": "code",
   "execution_count": null,
   "metadata": {},
   "outputs": [],
   "source": [
    "# Create a dropdown plot, grouped by each country\n",
    "overweight_dropdown= overweight_adults1.hvplot.bar(x= 'index', groupby= 'Country Name', title= 'Overweight population (%)')\n",
    "                            \n",
    "overweight_dropdown"
   ]
  },
  {
   "cell_type": "markdown",
   "metadata": {},
   "source": [
    "#### Interpretation of USA overweight population"
   ]
  },
  {
   "cell_type": "markdown",
   "metadata": {},
   "source": [
    "As seen from the graph above, the overweight population in the US has been increasing, which is a bad sign."
   ]
  },
  {
   "cell_type": "code",
   "execution_count": null,
   "metadata": {},
   "outputs": [],
   "source": [
    "# Compare the overweight statistics of USA vs South Africa and Italy\n",
    "overweight_combined_plot= (overweight_adults1.loc['United States'].hvplot()* overweight_adults1.loc['South Africa'].hvplot()\n",
    "                           * overweight_adults1.loc['Italy'].hvplot().opts(title= 'Overwight population- USA, South Africa, Italy'))\n",
    "\n",
    "overweight_combined_plot"
   ]
  },
  {
   "cell_type": "markdown",
   "metadata": {},
   "source": [
    "#### Interpretation of USA vs South Africa and Italy overweight population"
   ]
  },
  {
   "cell_type": "markdown",
   "metadata": {},
   "source": [
    "In comparison with Italy and South Africa, the US towers above both the countries with overweight adults."
   ]
  },
  {
   "cell_type": "code",
   "execution_count": null,
   "metadata": {},
   "outputs": [],
   "source": [
    "# Which countries had the lowest overweight population in 2015\n",
    "overweight_adults1['2015'].sort_values().head()"
   ]
  },
  {
   "cell_type": "code",
   "execution_count": null,
   "metadata": {},
   "outputs": [],
   "source": [
    "# Calculate the aggregate mean over all the years, by country\n",
    "overweight_adults1_sum= overweight_adults1.sum(axis= 1)\n",
    "\n",
    "overweight_adults1_mean= round ((overweight_adults1_sum/7), 1)\n",
    "\n",
    "overweight_adults1_mean.nlargest(5)"
   ]
  },
  {
   "cell_type": "code",
   "execution_count": null,
   "metadata": {},
   "outputs": [],
   "source": [
    "# Plot the Overweight adults percent\n",
    "overweight_all_plot= overweight_adults1_mean.hvplot.bar(title= 'Overweight Adults (% of population)', rot= 60)\n",
    "\n",
    "overweight_all_plot"
   ]
  },
  {
   "cell_type": "markdown",
   "metadata": {},
   "source": [
    "#### Interpretation of overall overweight population"
   ]
  },
  {
   "cell_type": "markdown",
   "metadata": {},
   "source": [
    "USA has the highest percentage of overweight adults among all the 50 countries followed by Turkey and New Zealand"
   ]
  },
  {
   "cell_type": "markdown",
   "metadata": {},
   "source": [
    "#### 7- Women in legislature (percentage)"
   ]
  },
  {
   "cell_type": "code",
   "execution_count": null,
   "metadata": {},
   "outputs": [],
   "source": [
    "# Women in legislature\n",
    "women_legislature= fifty_countries_reset.loc['women in legislature (%)']\n",
    "\n",
    "women_legislature.head()"
   ]
  },
  {
   "cell_type": "code",
   "execution_count": null,
   "metadata": {},
   "outputs": [],
   "source": [
    "# Women in legislature drop indicator name and reset index\n",
    "women_legislature1= women_legislature.set_index('Country Name').fillna(0)\n",
    "\n",
    "women_legislature1= round (women_legislature1, 1)\n",
    "\n",
    "women_legislature1.head()"
   ]
  },
  {
   "cell_type": "code",
   "execution_count": null,
   "metadata": {},
   "outputs": [],
   "source": [
    "# Create a dropdown plot, grouped by each country\n",
    "women_dropdown= women_legislature1.hvplot.bar(x= 'index', groupby= 'Country Name', title= 'Women in legislature (%)')\n",
    "                            \n",
    "women_dropdown"
   ]
  },
  {
   "cell_type": "markdown",
   "metadata": {},
   "source": [
    "#### Interpretation of USA women in legislature"
   ]
  },
  {
   "cell_type": "markdown",
   "metadata": {},
   "source": [
    "As seen from the graph above, US shows a positive sign with the inclusion of women in legislature, rising almost all the years, from 16.8% in 2010 to 23.4% in 2019."
   ]
  },
  {
   "cell_type": "code",
   "execution_count": null,
   "metadata": {},
   "outputs": [],
   "source": [
    "# Compare the Women in legislature statistics of USA vs Colombia and Japan\n",
    "women_combined_plot= (women_legislature1.loc['United States'].hvplot()* women_legislature1.loc['Colombia'].hvplot()\n",
    "                     * women_legislature1.loc['Japan'].hvplot().opts(title= 'Women in legislature- USA, Colombia, Japan'))\n",
    "\n",
    "women_combined_plot"
   ]
  },
  {
   "cell_type": "markdown",
   "metadata": {},
   "source": [
    "#### Interpretation of USA vs Colombia and Japan women in legislature"
   ]
  },
  {
   "cell_type": "markdown",
   "metadata": {},
   "source": [
    "USA fares better compared to Colombia and Japan, with steady increase of women in the legislature"
   ]
  },
  {
   "cell_type": "code",
   "execution_count": null,
   "metadata": {},
   "outputs": [],
   "source": [
    "# Which countries had the highest percentage of women in legislature in 2019\n",
    "women_legislature1['2019'].nlargest(5)"
   ]
  },
  {
   "cell_type": "code",
   "execution_count": null,
   "metadata": {},
   "outputs": [],
   "source": [
    "# Calculate the aggregate mean over all the years, by country\n",
    "women_legislature1_sum= women_legislature1.sum(axis= 1)\n",
    "\n",
    "women_legislature1_mean= round ((women_legislature1_sum/10), 1)\n",
    "\n",
    "women_legislature1_mean.head()"
   ]
  },
  {
   "cell_type": "code",
   "execution_count": null,
   "metadata": {},
   "outputs": [],
   "source": [
    "# Plot the Women percentage in legislature\n",
    "all_women_plot= women_legislature1_mean.hvplot.bar(title= 'Women in Legislature (%)', rot= 60)\n",
    "\n",
    "all_women_plot"
   ]
  },
  {
   "cell_type": "markdown",
   "metadata": {},
   "source": [
    "#### Interpretation of overall women in legislature"
   ]
  },
  {
   "cell_type": "markdown",
   "metadata": {},
   "source": [
    "While the percentage of women in legislature is on the rise in US, it still lags behind so many of the countries."
   ]
  },
  {
   "cell_type": "markdown",
   "metadata": {},
   "source": [
    "#### 8- Research and Development Expenditure (% of GDP)"
   ]
  },
  {
   "cell_type": "code",
   "execution_count": null,
   "metadata": {},
   "outputs": [],
   "source": [
    "# Research and Development Expenditure\n",
    "rd_expenditure= fifty_countries_reset.loc['Research and development expenditure (% of GDP)']\n",
    "\n",
    "rd_expenditure.head()"
   ]
  },
  {
   "cell_type": "code",
   "execution_count": null,
   "metadata": {},
   "outputs": [],
   "source": [
    "# R&D expenditure drop indicator name and reset index\n",
    "rd_expenditure1= rd_expenditure.set_index('Country Name').fillna(0)\n",
    "\n",
    "rd_expenditure1= round (rd_expenditure1.drop(columns= ['2019']), 1)\n",
    "\n",
    "rd_expenditure1.head()"
   ]
  },
  {
   "cell_type": "code",
   "execution_count": null,
   "metadata": {},
   "outputs": [],
   "source": [
    "# Create a dropdown plot, grouped by each country\n",
    "rd_dropdown= rd_expenditure1.hvplot.bar(x= 'index', groupby= 'Country Name', title= 'R&D Expenditure (% of GDP)')\n",
    "                            \n",
    "rd_dropdown"
   ]
  },
  {
   "cell_type": "markdown",
   "metadata": {},
   "source": [
    "#### Interpretation of USA R&D expenditure"
   ]
  },
  {
   "cell_type": "markdown",
   "metadata": {},
   "source": [
    "As seen from the graph above, the R&D expenditure percentage in US has stayed almost the same. This is not expected of a country that has tech giants."
   ]
  },
  {
   "cell_type": "code",
   "execution_count": null,
   "metadata": {},
   "outputs": [],
   "source": [
    "# Compare the R&D expenditure statistics of USA vs Germany and India\n",
    "rd_combined_plot= (rd_expenditure1.loc['United States'].hvplot()* rd_expenditure1.loc['Germany'].hvplot()\n",
    "                   * rd_expenditure1.loc['India'].hvplot().opts(title= 'R&D expense as % of GDP'))\n",
    "\n",
    "rd_combined_plot"
   ]
  },
  {
   "cell_type": "markdown",
   "metadata": {},
   "source": [
    "#### Interpretation of USA vs Germany and India R&D expenditure"
   ]
  },
  {
   "cell_type": "markdown",
   "metadata": {},
   "source": [
    "USA's R&D expenditure is a little behind Germany and higher than India."
   ]
  },
  {
   "cell_type": "code",
   "execution_count": null,
   "metadata": {},
   "outputs": [],
   "source": [
    "# Which countries had the lowest R&D expenditure (% of GDP) in 2011\n",
    "rd_expenditure1['2011'].nsmallest(5)"
   ]
  },
  {
   "cell_type": "code",
   "execution_count": null,
   "metadata": {},
   "outputs": [],
   "source": [
    "# Calculate the aggregate mean over all the years, by country\n",
    "rd_expenditure1_sum= rd_expenditure1.sum(axis= 1)\n",
    "\n",
    "rd_expenditure1_mean= round ((rd_expenditure1_sum/9), 1)\n",
    "\n",
    "rd_expenditure1_mean.nlargest(5)"
   ]
  },
  {
   "cell_type": "code",
   "execution_count": null,
   "metadata": {},
   "outputs": [],
   "source": [
    "# Plot the R&D Expenditure\n",
    "rd_all_plot= rd_expenditure1_mean.hvplot.bar(title= 'R&D Expenditure (% of GDP)', rot= 60)\n",
    "\n",
    "rd_all_plot"
   ]
  },
  {
   "cell_type": "markdown",
   "metadata": {},
   "source": [
    "#### Interpretation of overall R&D expenditure"
   ]
  },
  {
   "cell_type": "markdown",
   "metadata": {},
   "source": [
    "USA's percentage is higher compared to many of the countries. However, countries like Israel, Sweden, Japan, Finland, Austria, Denmark, Germany invest more in R&D measured with their GDP pecentage."
   ]
  },
  {
   "cell_type": "markdown",
   "metadata": {},
   "source": [
    "#### 9- GDP Growth (Annual percent)"
   ]
  },
  {
   "cell_type": "code",
   "execution_count": null,
   "metadata": {},
   "outputs": [],
   "source": [
    "# GDP Growth\n",
    "gdp_growth= fifty_countries_reset.loc['GDP growth (annual %)']\n",
    "\n",
    "gdp_growth.head()"
   ]
  },
  {
   "cell_type": "code",
   "execution_count": null,
   "metadata": {},
   "outputs": [],
   "source": [
    "# GDP growth drop indicator name and reset index\n",
    "gdp_growth1= gdp_growth.set_index('Country Name').fillna(0)\n",
    "\n",
    "gdp_growth1= round (gdp_growth1, 1)\n",
    "\n",
    "gdp_growth1.head()"
   ]
  },
  {
   "cell_type": "code",
   "execution_count": null,
   "metadata": {},
   "outputs": [],
   "source": [
    "# Create a dropdown plot, grouped by each country\n",
    "gdp_dropdown= gdp_growth1.hvplot.bar(x= 'index', groupby= 'Country Name', title= 'GDP Growth (%)')\n",
    "                            \n",
    "gdp_dropdown"
   ]
  },
  {
   "cell_type": "markdown",
   "metadata": {},
   "source": [
    "#### Interpretation of USA GDP growth"
   ]
  },
  {
   "cell_type": "markdown",
   "metadata": {},
   "source": [
    "As seen from the graph above, the GDP growth trend of USA has been haphazard, falling and rising over the years."
   ]
  },
  {
   "cell_type": "code",
   "execution_count": null,
   "metadata": {},
   "outputs": [],
   "source": [
    "# Compare the GDP growth statistics of USA vs Russia and Argentina\n",
    "gdp_combined_plot= (gdp_growth1.loc['United States'].hvplot()* gdp_growth1.loc['Russian Federation'].hvplot()\n",
    "                    * gdp_growth1.loc['Argentina'].hvplot().opts(title= \"GDP growth- USA, Russia, Argentina\"))\n",
    "                    \n",
    "gdp_combined_plot"
   ]
  },
  {
   "cell_type": "markdown",
   "metadata": {},
   "source": [
    "#### Interpretation of USA vs Russia and Argentina GDP growth"
   ]
  },
  {
   "cell_type": "markdown",
   "metadata": {},
   "source": [
    "Compared with USA and Argentina, USA's GDP growth/fall has been relatively stable, with no sharp rise and fall like Argentina."
   ]
  },
  {
   "cell_type": "code",
   "execution_count": null,
   "metadata": {},
   "outputs": [],
   "source": [
    "# Which countries had the highest GDP growth in 2018\n",
    "gdp_growth1['2018'].nlargest(5)"
   ]
  },
  {
   "cell_type": "code",
   "execution_count": null,
   "metadata": {},
   "outputs": [],
   "source": [
    "# Calculate the aggregate mean over all the years, by country\n",
    "gdp_growth1_sum= gdp_growth1.sum(axis= 1)\n",
    "\n",
    "gdp_growth1_mean= round ((gdp_growth1_sum/10), 1)\n",
    "\n",
    "gdp_growth1_mean.head()"
   ]
  },
  {
   "cell_type": "code",
   "execution_count": null,
   "metadata": {},
   "outputs": [],
   "source": [
    "# Plot the GDP growth\n",
    "gdp_all_plot= gdp_growth1_mean.hvplot.bar(title= 'GDP Growth (Annual %)', rot= 60)\n",
    "\n",
    "gdp_all_plot"
   ]
  },
  {
   "cell_type": "markdown",
   "metadata": {},
   "source": [
    "#### Interpretation of overall GDP growth"
   ]
  },
  {
   "cell_type": "markdown",
   "metadata": {},
   "source": [
    "USA had a subpar GDP growth in the 2010's decade compared with developing countries like India, China, Vietnam and Turkey."
   ]
  },
  {
   "cell_type": "markdown",
   "metadata": {},
   "source": [
    "## Define Panel Visualization functions"
   ]
  },
  {
   "cell_type": "code",
   "execution_count": null,
   "metadata": {},
   "outputs": [],
   "source": [
    "# fig = plt.figure()\n",
    "# df_2 = forest_area1.loc[['United States', 'Brazil', 'Estonia']].copy()\n",
    "# forest_combined_plt= df_2.plot.bar(title= \"Forest area USA, Brazil, Estonia\")\n",
    "# plt.close(fig)\n",
    "# pn.pane.Matplotlib(fig, tight=False)\n",
    "\n",
    "#     fig = plt.figure()\n",
    "#     df_2 = forest_area1.loc[['United States', 'Brazil', 'Estonia']].copy()\n",
    "#     df_2.reset_index(inplace=True)\n",
    "#     forest_combined_plt= df_2.plot.bar(title= \"Forest area USA, Brazil, Estonia\")\n",
    "#     plt.close(fig)\n",
    "#     return pn.pane.Matplotlib(fig, tight=True)\n",
    "#     df_2 = forest_area1.loc[['United States', 'Brazil', 'Estonia']].copy()\n",
    "#     forest_combined_plt = df_2.hvplot.bar(x= 'index', groupby= 'Country Name').opts(title= \"Forest area USA, Brazil, Estonia\")"
   ]
  },
  {
   "cell_type": "code",
   "execution_count": null,
   "metadata": {},
   "outputs": [],
   "source": [
    "# Define Panel Visualization functions\n",
    "\n",
    "# C02 Emission\n",
    "\"\"\"Carbondioxide Emission\"\"\"\n",
    "def combined_co2_plot():\n",
    "    co2_combined_plot= (carbondioxide_emission1.loc['China'].hvplot.line()* carbondioxide_emission1.loc['United States']\n",
    "                    .hvplot.line().opts(title= \"CO2 USA and China\"))\n",
    "    \n",
    "    return (co2_combined_plot)\n",
    "\n",
    "def dropdown_co2_plot():\n",
    "    carbondioxide_dropdown= carbondioxide_emission1.hvplot.bar(x= 'index', groupby= 'Country Name')\n",
    "                            \n",
    "    return (carbondioxide_dropdown)\n",
    "\n",
    "def all_co2_plot():\n",
    "    co2_all_plot= carbondioxide_emission1_mean.hvplot.bar(title= 'Mean Carbondioxide emission (metric tons per capita) from 2010- 2016', rot= 60)\n",
    "    \n",
    "    return (co2_all_plot)\n",
    "\n",
    "# ---------------------------------------------------------------------------\n",
    "# Particulate matter\n",
    "\"\"\"Particulate Matter Exposure\"\"\"\n",
    "def combined_particulate_plot():\n",
    "    particulate_combined_plot= (particulate_matter_exposure1.loc['United States'].hvplot.line()* particulate_matter_exposure1.loc['Spain']\n",
    "                            .hvplot.line().opts(title= 'Particulate matter exposure for USA and Spain'))\n",
    "    \n",
    "    return (particulate_combined_plot)\n",
    "\n",
    "def dropdown_particulate_plot():\n",
    "    particulate_dropdown= particulate_matter_exposure1.hvplot.bar(x= 'index', groupby= 'Country Name')\n",
    "    \n",
    "    return (particulate_dropdown)\n",
    "\n",
    "def all_particulate_plot():\n",
    "    particulate_all_plot= particulate_matter_exposure1_mean.hvplot.bar(title= 'PM Exposure (mg/ cu. m.)', rot= 60)\n",
    "    \n",
    "    return (particulate_all_plot)\n",
    "\n",
    "# ---------------------------------------------------------------------------\n",
    "# Forest Area\n",
    "\"\"\"Forest Area\"\"\"\n",
    "def combined_forest_plot():\n",
    "    forest_combined_plt= (forest_area1.loc['United States'].hvplot()* forest_area1.loc['Brazil'].hvplot()* \n",
    "                         forest_area1.loc['Estonia'].hvplot().opts(title= \"Forest area USA, Brazil, Estonia\", ylim= (30, 70)))\n",
    "    \n",
    "    return (forest_combined_plt)\n",
    "\n",
    "def dropdown_forest():\n",
    "    forest_dropdown= forest_area1.hvplot.bar(x= 'index', groupby= 'Country Name')\n",
    "    \n",
    "    return (forest_dropdown)\n",
    "\n",
    "def all_forest_plot():\n",
    "    forest_all_plot= forest_area1_mean.hvplot.bar(title= 'Forest Area (% of total land)', rot= 60)\n",
    "    \n",
    "    return (forest_all_plot)\n",
    "\n",
    "# ---------------------------------------------------------------------------\n",
    "# Renewable Energy\n",
    "\"\"\"Renewable Energy\"\"\"\n",
    "def combined_renewable_plot():\n",
    "    renewable_combined_plot= (renewable_energy1.loc['United States'].hvplot()* renewable_energy1.loc['Netherlands'].hvplot()* \n",
    "                       renewable_energy1.loc['Venezuela, RB'].hvplot().opts(title= \"Renewable energy USA, Netherlands, Venezuela\", ylim= (3,16)))\n",
    "    \n",
    "    return (renewable_combined_plot)\n",
    "\n",
    "def dropdown_renewable():\n",
    "    renewable_dropdown= renewable_energy1.hvplot.bar(x= 'index', groupby= 'Country Name')\n",
    "    \n",
    "    return (renewable_dropdown)\n",
    "\n",
    "def all_renewable_plot():\n",
    "    renewable_all_plot= renewable_energy1_mean.hvplot.bar(title= 'Renewable Energy Consumption (% of total energy)', rot= 60)\n",
    "\n",
    "    return (renewable_all_plot)\n",
    "\n",
    "# ---------------------------------------------------------------------------\n",
    "# Life Expectancy\n",
    "\"\"\"Life Expectancy\"\"\"\n",
    "def combined_life_plot():\n",
    "    life_combined_plot= (life_expectancy1.loc['United States'].hvplot()* life_expectancy1.loc['Switzerland'].hvplot()* \n",
    "                         life_expectancy1.loc['Vietnam'].hvplot()).opts(title= 'Life Expectancy- USA, Switzerland, Vietnam')\n",
    "\n",
    "    return (life_combined_plot)\n",
    "\n",
    "def dropdown_life():\n",
    "    life_dropdown= life_expectancy1.hvplot.bar(x= 'index', groupby= 'Country Name')\n",
    "    \n",
    "    return (life_dropdown)\n",
    "\n",
    "def all_life_plot():\n",
    "    life_all_plot= life_expectancy1_mean.hvplot.bar(title= 'Life Expectancy (years)', rot= 60, ylim= (minimum, maximum))\n",
    "\n",
    "    return (life_all_plot)\n",
    "\n",
    "# ---------------------------------------------------------------------------\n",
    "# Overweight population\n",
    "\"\"\"Overweight population\"\"\"\n",
    "def combined_overweight_plot():\n",
    "    overweight_combined_plot= (overweight_adults1.loc['United States'].hvplot()* overweight_adults1.loc['South Africa'].hvplot()\n",
    "                           * overweight_adults1.loc['Italy'].hvplot().opts(title= 'Overwight population- USA, South Africa, Italy'))\n",
    "\n",
    "    return (overweight_combined_plot)\n",
    "\n",
    "def dropdown_overweight():\n",
    "    overweight_dropdown= overweight_adults1.hvplot.bar(x= 'index', groupby= 'Country Name')\n",
    "    \n",
    "    return (overweight_dropdown)\n",
    "\n",
    "def all_overweight_plot():\n",
    "    overweight_all_plot= overweight_adults1_mean.hvplot.bar(title= 'Overweight Adults (% of population)', rot= 60)\n",
    "\n",
    "    return (overweight_all_plot)\n",
    "\n",
    "# ---------------------------------------------------------------------------\n",
    "# Women in legislature\n",
    "\"\"\"Women in legislature\"\"\"\n",
    "def combined_women_plot():\n",
    "    women_combined_plot= (women_legislature1.loc['United States'].hvplot()* women_legislature1.loc['Colombia'].hvplot()\n",
    "                         * women_legislature1.loc['Japan'].hvplot().opts(title= 'Women in legislature- USA, Colombia, Japan'))\n",
    "\n",
    "    return (women_combined_plot)\n",
    "\n",
    "def dropdown_women():\n",
    "    women_dropdown= women_legislature1.hvplot.bar(x= 'index', groupby= 'Country Name')\n",
    "    \n",
    "    return (women_dropdown)\n",
    "\n",
    "def all_women_plot():\n",
    "    women_all_plot= women_legislature1_mean.hvplot.bar(title= 'Women in Legislature (%)', rot= 60)\n",
    "\n",
    "    return (women_all_plot)\n",
    "\n",
    "# ---------------------------------------------------------------------------\n",
    "# R&D as percentage of GDP\n",
    "\"\"\"R&D as percentage of GDP\"\"\"\n",
    "def combined_rd_plot():\n",
    "    rd_combined_plot= (rd_expenditure1.loc['United States'].hvplot()* rd_expenditure1.loc['Germany'].hvplot()\n",
    "                   * rd_expenditure1.loc['India'].hvplot().opts(title= 'R&D expense as % of GDP'))\n",
    "\n",
    "    return (rd_combined_plot)\n",
    "\n",
    "def dropdown_rd():\n",
    "    rd_dropdown= rd_expenditure1.hvplot.bar(x= 'index', groupby= 'Country Name')\n",
    "    \n",
    "    return (rd_dropdown)\n",
    "\n",
    "def all_rd_plot():\n",
    "    rd_all_plot= rd_expenditure1_mean.hvplot.bar(title= 'R&D Expenditure (% of GDP)', rot= 60)\n",
    "\n",
    "    return (rd_all_plot)\n",
    "\n",
    "# ---------------------------------------------------------------------------\n",
    "# GDP growth\n",
    "\"\"\"GDP growth\"\"\"\n",
    "def combined_gdp_plot():\n",
    "    gdp_combined_plot= (gdp_growth1.loc['United States'].hvplot()* gdp_growth1.loc['Russian Federation'].hvplot()\n",
    "                    * gdp_growth1.loc['Argentina'].hvplot().opts(title= \"GDP growth- USA, Russia, Argentina\"))\n",
    "                    \n",
    "    return (gdp_combined_plot)\n",
    "\n",
    "def dropdown_gdp():\n",
    "    gdp_dropdown= gdp_growth1.hvplot.bar(x= 'index', groupby= 'Country Name')\n",
    "    \n",
    "    return (gdp_dropdown)\n",
    "     \n",
    "def all_gdp_plot():\n",
    "    gdp_all_plot= gdp_growth1_mean.hvplot.bar(title= 'GDP Growth (Annual %)', rot= 60)\n",
    "\n",
    "    return (gdp_all_plot)"
   ]
  },
  {
   "cell_type": "markdown",
   "metadata": {},
   "source": [
    "## Panel Dashboard"
   ]
  },
  {
   "cell_type": "code",
   "execution_count": null,
   "metadata": {},
   "outputs": [],
   "source": [
    "# Title of the panel dashboard\n",
    "title = pn.pane.Markdown(\n",
    "    \"\"\"\n",
    "    ## Environmental, Social and Governance factors comparison of USA vs various countries; Cumulative returns analysis of ESG funds\n",
    "    \"\"\",\n",
    "    width= 800\n",
    ")"
   ]
  },
  {
   "cell_type": "code",
   "execution_count": null,
   "metadata": {},
   "outputs": [],
   "source": [
    "# Arranging the plots by column\n",
    "co2_column= pn.Column(combined_co2_plot(), dropdown_co2_plot(), all_co2_plot())\n",
    "\n",
    "particulate_column= pn.Column(combined_particulate_plot(), dropdown_particulate_plot(), all_particulate_plot())\n",
    "\n",
    "forest_column= pn.Column(combined_forest_plot(), dropdown_forest(), all_forest_plot())\n",
    "\n",
    "renewable_column= pn.Column(combined_renewable_plot(), dropdown_renewable(), all_renewable_plot())\n",
    "\n",
    "life_expectancy_column= pn.Column(combined_life_plot(), dropdown_life(), all_life_plot())\n",
    "\n",
    "overweight_column= pn.Column(combined_overweight_plot(), dropdown_overweight(), all_overweight_plot())\n",
    "\n",
    "women_column= pn.Column(combined_women_plot(), dropdown_women(), all_women_plot())\n",
    "\n",
    "rd_column= pn.Column(combined_rd_plot(), dropdown_rd(), all_rd_plot())\n",
    "\n",
    "gdp_column= pn.Column(combined_gdp_plot(), dropdown_gdp(), all_gdp_plot())"
   ]
  },
  {
   "cell_type": "code",
   "execution_count": null,
   "metadata": {},
   "outputs": [],
   "source": [
    "# Defining the panel tabs\n",
    "dashboard_panel= pn.Tabs(\n",
    "        (\"C02 Emission\", co2_column),\n",
    "        (\"Particulate\", particulate_column),\n",
    "        (\"Forest\", forest_column),\n",
    "        (\"Renewable\", renewable_column),\n",
    "        (\"Life\", life_expectancy_column),\n",
    "        (\"Overweight\", overweight_column),\n",
    "        (\"Women\", women_column),\n",
    "        (\"R&D\", rd_column),\n",
    "        (\"GDP\", gdp_column)\n",
    ")"
   ]
  },
  {
   "cell_type": "markdown",
   "metadata": {},
   "source": [
    "### Display the Dashboard"
   ]
  },
  {
   "cell_type": "code",
   "execution_count": null,
   "metadata": {},
   "outputs": [],
   "source": [
    "dashboard = pn.Column(pn.Row(title), dashboard_panel)\n",
    "\n",
    "dashboard"
   ]
  },
  {
   "cell_type": "code",
   "execution_count": null,
   "metadata": {},
   "outputs": [],
   "source": [
    "# Serve the panel dashboard\n",
    "dashboard.servable()"
   ]
  },
  {
   "cell_type": "markdown",
   "metadata": {},
   "source": [
    "### Dashboard Graph interpretation using tkinter library"
   ]
  },
  {
   "cell_type": "code",
   "execution_count": null,
   "metadata": {},
   "outputs": [],
   "source": [
    "# Create a dashboard with the interpretation of all the graphs\n",
    "root = tk.Tk() \n",
    "root.title(\"Comparison of ESG indicators of USA vs other countries\") \n",
    "tabControl = ttk.Notebook(root) \n",
    "  \n",
    "tab1 = ttk.Frame(tabControl) \n",
    "tab2 = ttk.Frame(tabControl)\n",
    "tab3 = ttk.Frame(tabControl)\n",
    "tab4 = ttk.Frame(tabControl)\n",
    "tab5 = ttk.Frame(tabControl)\n",
    "tab6 = ttk.Frame(tabControl)\n",
    "tab7 = ttk.Frame(tabControl)\n",
    "tab8 = ttk.Frame(tabControl)\n",
    "tab9 = ttk.Frame(tabControl)\n",
    "  \n",
    "tabControl.add(tab1, text ='Carbondioxide') \n",
    "tabControl.add(tab2, text ='Particulate')\n",
    "tabControl.add(tab3, text ='Forest')\n",
    "tabControl.add(tab4, text ='Renewable')\n",
    "tabControl.add(tab5, text ='Life')\n",
    "tabControl.add(tab6, text ='Overweight')\n",
    "tabControl.add(tab7, text ='Women')\n",
    "tabControl.add(tab8, text ='R&D')\n",
    "tabControl.add(tab9, text ='GDP')\n",
    "\n",
    "tabControl.pack(expand = 1, fill =\"both\") \n",
    "  \n",
    "ttk.Label(tab1, \n",
    "          text =\"\"\"CO2 Emission interpretation\n",
    "          The CO2 emission of United States has marginally reduced over the period from 2010- 2016.\n",
    "          The CO2 emission of United States was way above than China during the period from 2010- 2016.\n",
    "          The CO2 emission of United States has been higher than all the countries, except Luxembourg and Australia.\n",
    "          \"\"\").grid(column = 0, row = 0,  padx = 10, pady = 10)\n",
    "\n",
    "ttk.Label(tab2, \n",
    "          text =\"\"\"Particulate Matter interpretation\n",
    "          The PM exposure of US has only gradually reduced, but not made a significant improvement over 7 years.\n",
    "          Compared with Spain, the PM exposure of US has been low, while both the countries improved on the PM exposure over 7 years.\n",
    "          Compared with all the 50 countries, USA fares well on the exposure to PM.\n",
    "          \"\"\").grid(column = 0, row = 0,  padx = 10, pady = 10)\n",
    "\n",
    "ttk.Label(tab3, \n",
    "          text =\"\"\"Forest Area interpretation\n",
    "          The forest area in USA has stayed relatively same over the years, while not experiencing major drop.\n",
    "          Compared with Brazil and Estonia, the forest area is significantly lower in the US.\n",
    "          USA's forest area is average in comparison with other countries.\n",
    "          \"\"\").grid(column = 0, row = 0,  padx = 10, pady = 10)\n",
    "\n",
    "ttk.Label(tab4, \n",
    "          text =\"\"\"Renewable Energy interpretation\n",
    "          The renewable energy consumption in USA has seen a marginal improvement during the period in consideration.\n",
    "          Compared to Venezuela, the renewable energy consumption in USA is low. While, USA performs better than technologically advanced Netherlands.\n",
    "          In comparison with all the countries, USA has a miniscule renewable energy usage. The countries that are not technologically savvy like Venezuela, Nigeria, Vietnam have a much higher usage than the US.\n",
    "          \"\"\").grid(column = 0, row = 0,  padx = 10, pady = 10)\n",
    "\n",
    "ttk.Label(tab5, \n",
    "          text =\"\"\"Life Expectancy interpretation\n",
    "          The life expectancy in USA has stayed steady at 78, over 9 years.\n",
    "          Switzerland has had a higher life expectancy than USA and experienced improvements. Vietnam has a lower life expectancy than USA and had a slight improvement over 9 years.\n",
    "          USA's life expectancy is higher compared to many 2nd and 3rd world countries while still behind many countries that have an expectancy over 80 years.\n",
    "          \"\"\").grid(column = 0, row = 0,  padx = 10, pady = 10)\n",
    "\n",
    "ttk.Label(tab6, \n",
    "          text =\"\"\"Overweight population interpretation\n",
    "          The overweight population in the US has been increasing, which is a bad sign.\n",
    "          In comparison with Italy and South Africa, the US towers above both the countries with overweight adults.\n",
    "          USA has the highest percentage of overweight adults among all the 50 countries followed by Turkey and New Zealand\n",
    "          \"\"\").grid(column = 0, row = 0,  padx = 10, pady = 10)\n",
    "\n",
    "ttk.Label(tab7, \n",
    "          text =\"\"\" Women in legislature interpretation\n",
    "          US shows a positive sign with the inclusion of women in legislature, rising almost all the years, from 16.8% in 2010 to 23.4% in 2019.\n",
    "          USA fares better compared to Colombia and Japan, with steady increase of women in the legislature.\n",
    "          While the percentage of women in legislature is on the rise in US, it still lags behind so many of the countries.\n",
    "          \"\"\").grid(column = 0, row = 0,  padx = 10, pady = 10)\n",
    "\n",
    "ttk.Label(tab8, \n",
    "          text =\"\"\"R&D expenditure interpretation\n",
    "          The R&D expenditure percentage in US has stayed almost the same. This is not expected of a country that has tech giants.\n",
    "          USA's R&D expenditure is a little behind Germany and higher than India.\n",
    "          USA's percentage is higher compared to many of the countries. However, countries like Israel, Sweden, Japan, Finland, Austria, Denmark, Germany invest more in R&D measured with their GDP pecentage.\n",
    "          \"\"\").grid(column = 0, row = 0,  padx = 10, pady = 10)\n",
    "\n",
    "ttk.Label(tab9, \n",
    "          text =\"\"\"GDP growth interpretation\n",
    "          The GDP growth trend of USA has been haphazard, falling and rising over the years.\n",
    "          Compared with USA and Argentina, USA's GDP growth/fall has been relatively stable, with no sharp rise and fall like Argentina.\n",
    "          USA had a subpar GDP growth in the 2010's decade compared with developing countries like India, China, Vietnam and Turkey.\n",
    "          \"\"\").grid(column = 0, row = 0,  padx = 10, pady = 10)\n",
    "  \n",
    "root.mainloop()"
   ]
  },
  {
   "cell_type": "code",
   "execution_count": null,
   "metadata": {},
   "outputs": [],
   "source": []
  }
 ],
 "metadata": {
  "kernelspec": {
   "display_name": "Python 3",
   "language": "python",
   "name": "python3"
  },
  "language_info": {
   "codemirror_mode": {
    "name": "ipython",
    "version": 3
   },
   "file_extension": ".py",
   "mimetype": "text/x-python",
   "name": "python",
   "nbconvert_exporter": "python",
   "pygments_lexer": "ipython3",
   "version": "3.7.7"
  }
 },
 "nbformat": 4,
 "nbformat_minor": 4
}
